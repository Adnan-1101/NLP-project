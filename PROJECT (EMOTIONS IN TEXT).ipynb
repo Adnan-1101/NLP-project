{
 "cells": [
  {
   "cell_type": "markdown",
   "id": "2604e8da",
   "metadata": {},
   "source": [
    "# <span style = \"color:green\"> Text-Based Emotion Detection</span>"
   ]
  },
  {
   "cell_type": "markdown",
   "id": "83b510a2",
   "metadata": {},
   "source": [
    "***"
   ]
  },
  {
   "cell_type": "markdown",
   "id": "122f4ced",
   "metadata": {},
   "source": [
    "Emotion detection (ED) is a brach of sentiment analysis that deals with the extraction and analysis of emotions. The evolution of web 2.0 has put text mining and analysis at the frontiers of organizational success. It helps service provider provide tailor-made services to their customers. Numerous studies are being carried out in the area of text mining and analysis due to the ease in sourcing for data and the vast benefits its deliverable offers."
   ]
  },
  {
   "cell_type": "markdown",
   "id": "c909fe91",
   "metadata": {},
   "source": [
    "### Content"
   ]
  },
  {
   "cell_type": "markdown",
   "id": "d524212d",
   "metadata": {},
   "source": [
    "There are two columns\n",
    "* Text\n",
    "* Emotion\n",
    "\n",
    "The emotions column has various categories ranging from happiness to sadness to love and fear."
   ]
  },
  {
   "cell_type": "markdown",
   "id": "aa49470e",
   "metadata": {},
   "source": [
    "## Let's Begin"
   ]
  },
  {
   "cell_type": "markdown",
   "id": "4c7f4fa6",
   "metadata": {},
   "source": [
    "### Import necessary libraries"
   ]
  },
  {
   "cell_type": "code",
   "execution_count": 1,
   "id": "e2dd3101",
   "metadata": {},
   "outputs": [],
   "source": [
    "import numpy as np \n",
    "import pandas as pd\n",
    "import matplotlib.pyplot as plt\n",
    "import seaborn as sns\n",
    "import nltk\n",
    "import re"
   ]
  },
  {
   "cell_type": "markdown",
   "id": "70982212",
   "metadata": {},
   "source": [
    "### Read 'Emotion_final.csv' and store it in a dataframe variable"
   ]
  },
  {
   "cell_type": "code",
   "execution_count": 2,
   "id": "4c6c13a5",
   "metadata": {},
   "outputs": [],
   "source": [
    "data = pd.read_csv(\"Emotion_final.csv\")"
   ]
  },
  {
   "cell_type": "markdown",
   "id": "8997067e",
   "metadata": {},
   "source": [
    "### View head"
   ]
  },
  {
   "cell_type": "code",
   "execution_count": 3,
   "id": "6b346f86",
   "metadata": {},
   "outputs": [
    {
     "data": {
      "text/html": [
       "<div>\n",
       "<style scoped>\n",
       "    .dataframe tbody tr th:only-of-type {\n",
       "        vertical-align: middle;\n",
       "    }\n",
       "\n",
       "    .dataframe tbody tr th {\n",
       "        vertical-align: top;\n",
       "    }\n",
       "\n",
       "    .dataframe thead th {\n",
       "        text-align: right;\n",
       "    }\n",
       "</style>\n",
       "<table border=\"1\" class=\"dataframe\">\n",
       "  <thead>\n",
       "    <tr style=\"text-align: right;\">\n",
       "      <th></th>\n",
       "      <th>Text</th>\n",
       "      <th>Emotion</th>\n",
       "    </tr>\n",
       "  </thead>\n",
       "  <tbody>\n",
       "    <tr>\n",
       "      <th>0</th>\n",
       "      <td>i didnt feel humiliated</td>\n",
       "      <td>sadness</td>\n",
       "    </tr>\n",
       "    <tr>\n",
       "      <th>1</th>\n",
       "      <td>i can go from feeling so hopeless to so damned...</td>\n",
       "      <td>sadness</td>\n",
       "    </tr>\n",
       "    <tr>\n",
       "      <th>2</th>\n",
       "      <td>im grabbing a minute to post i feel greedy wrong</td>\n",
       "      <td>anger</td>\n",
       "    </tr>\n",
       "    <tr>\n",
       "      <th>3</th>\n",
       "      <td>i am ever feeling nostalgic about the fireplac...</td>\n",
       "      <td>love</td>\n",
       "    </tr>\n",
       "    <tr>\n",
       "      <th>4</th>\n",
       "      <td>i am feeling grouchy</td>\n",
       "      <td>anger</td>\n",
       "    </tr>\n",
       "  </tbody>\n",
       "</table>\n",
       "</div>"
      ],
      "text/plain": [
       "                                                Text  Emotion\n",
       "0                            i didnt feel humiliated  sadness\n",
       "1  i can go from feeling so hopeless to so damned...  sadness\n",
       "2   im grabbing a minute to post i feel greedy wrong    anger\n",
       "3  i am ever feeling nostalgic about the fireplac...     love\n",
       "4                               i am feeling grouchy    anger"
      ]
     },
     "execution_count": 3,
     "metadata": {},
     "output_type": "execute_result"
    }
   ],
   "source": [
    "data.head()"
   ]
  },
  {
   "cell_type": "markdown",
   "id": "f334db80",
   "metadata": {},
   "source": [
    "### Print some of the texts"
   ]
  },
  {
   "cell_type": "code",
   "execution_count": 66,
   "id": "f244571e",
   "metadata": {},
   "outputs": [
    {
     "name": "stdout",
     "output_type": "stream",
     "text": [
      "i didnt feel humiliated\n",
      "i can go from feeling so hopeless to so damned hopeful just from being around someone who cares and is awake\n",
      "im grabbing a minute to post i feel greedy wrong\n",
      "i am ever feeling nostalgic about the fireplace i will know that it is still on the property\n",
      "i am feeling grouchy\n",
      "ive been feeling a little burdened lately wasnt sure why that was\n",
      "ive been taking or milligrams or times recommended amount and ive fallen asleep a lot faster but i also feel like so funny\n",
      "i feel as confused about life as a teenager or as jaded as a year old man\n",
      "i have been with petronas for years i feel that petronas has performed well and made a huge profit\n",
      "i feel romantic too\n"
     ]
    }
   ],
   "source": []
  },
  {
   "cell_type": "code",
   "execution_count": 4,
   "id": "5110f366-50f8-423a-8246-3929836933f2",
   "metadata": {},
   "outputs": [
    {
     "name": "stdout",
     "output_type": "stream",
     "text": [
      "i didnt feel humiliated\n",
      "i can go from feeling so hopeless to so damned hopeful just from being around someone who cares and is awake\n",
      "im grabbing a minute to post i feel greedy wrong\n",
      "i am ever feeling nostalgic about the fireplace i will know that it is still on the property\n",
      "i am feeling grouchy\n",
      "ive been feeling a little burdened lately wasnt sure why that was\n",
      "ive been taking or milligrams or times recommended amount and ive fallen asleep a lot faster but i also feel like so funny\n",
      "i feel as confused about life as a teenager or as jaded as a year old man\n",
      "i have been with petronas for years i feel that petronas has performed well and made a huge profit\n",
      "i feel romantic too\n"
     ]
    }
   ],
   "source": [
    "for i in range(10):\n",
    "    print(data[\"Text\"][i])"
   ]
  },
  {
   "cell_type": "markdown",
   "id": "d2faeb5a",
   "metadata": {},
   "source": [
    "### Check unique values in Emotion"
   ]
  },
  {
   "cell_type": "code",
   "execution_count": 6,
   "id": "978b6c40",
   "metadata": {},
   "outputs": [
    {
     "data": {
      "text/plain": [
       "array(['sadness', 'anger', 'love', 'surprise', 'fear', 'happy'],\n",
       "      dtype=object)"
      ]
     },
     "execution_count": 6,
     "metadata": {},
     "output_type": "execute_result"
    }
   ],
   "source": []
  },
  {
   "cell_type": "code",
   "execution_count": 5,
   "id": "58d6a0eb-0432-41d1-af98-259c6f2e1607",
   "metadata": {},
   "outputs": [
    {
     "data": {
      "text/plain": [
       "array(['sadness', 'anger', 'love', 'surprise', 'fear', 'happy'],\n",
       "      dtype=object)"
      ]
     },
     "execution_count": 5,
     "metadata": {},
     "output_type": "execute_result"
    }
   ],
   "source": [
    "data.Emotion.unique()"
   ]
  },
  {
   "cell_type": "markdown",
   "id": "84198187",
   "metadata": {},
   "source": [
    "### View info of the dataset"
   ]
  },
  {
   "cell_type": "code",
   "execution_count": 7,
   "id": "0fcc7141",
   "metadata": {},
   "outputs": [
    {
     "name": "stdout",
     "output_type": "stream",
     "text": [
      "<class 'pandas.core.frame.DataFrame'>\n",
      "RangeIndex: 21459 entries, 0 to 21458\n",
      "Data columns (total 2 columns):\n",
      " #   Column   Non-Null Count  Dtype \n",
      "---  ------   --------------  ----- \n",
      " 0   Text     21459 non-null  object\n",
      " 1   Emotion  21459 non-null  object\n",
      "dtypes: object(2)\n",
      "memory usage: 335.4+ KB\n"
     ]
    }
   ],
   "source": []
  },
  {
   "cell_type": "code",
   "execution_count": 6,
   "id": "ec3c7938-197d-400a-945c-b9083e3e9607",
   "metadata": {},
   "outputs": [
    {
     "name": "stdout",
     "output_type": "stream",
     "text": [
      "<class 'pandas.core.frame.DataFrame'>\n",
      "RangeIndex: 21459 entries, 0 to 21458\n",
      "Data columns (total 2 columns):\n",
      " #   Column   Non-Null Count  Dtype \n",
      "---  ------   --------------  ----- \n",
      " 0   Text     21459 non-null  object\n",
      " 1   Emotion  21459 non-null  object\n",
      "dtypes: object(2)\n",
      "memory usage: 335.4+ KB\n"
     ]
    }
   ],
   "source": [
    "data.info()"
   ]
  },
  {
   "cell_type": "markdown",
   "id": "5cee5931",
   "metadata": {},
   "source": [
    "### Check for null values, Remove if any"
   ]
  },
  {
   "cell_type": "code",
   "execution_count": 8,
   "id": "cc6776de",
   "metadata": {},
   "outputs": [
    {
     "data": {
      "text/plain": [
       "Text       0\n",
       "Emotion    0\n",
       "dtype: int64"
      ]
     },
     "execution_count": 8,
     "metadata": {},
     "output_type": "execute_result"
    }
   ],
   "source": []
  },
  {
   "cell_type": "code",
   "execution_count": 7,
   "id": "dcd67ab9-1ef8-4690-8916-a89928e148bc",
   "metadata": {},
   "outputs": [
    {
     "data": {
      "text/plain": [
       "Text       0\n",
       "Emotion    0\n",
       "dtype: int64"
      ]
     },
     "execution_count": 7,
     "metadata": {},
     "output_type": "execute_result"
    }
   ],
   "source": [
    "data.isna().sum()"
   ]
  },
  {
   "cell_type": "markdown",
   "id": "873f9caa",
   "metadata": {},
   "source": [
    "### Check for duplicates, Remove if any"
   ]
  },
  {
   "cell_type": "code",
   "execution_count": 9,
   "id": "970c774c",
   "metadata": {},
   "outputs": [
    {
     "data": {
      "text/plain": [
       "3"
      ]
     },
     "execution_count": 9,
     "metadata": {},
     "output_type": "execute_result"
    }
   ],
   "source": []
  },
  {
   "cell_type": "code",
   "execution_count": 8,
   "id": "fae034d2",
   "metadata": {},
   "outputs": [
    {
     "data": {
      "text/plain": [
       "3"
      ]
     },
     "execution_count": 8,
     "metadata": {},
     "output_type": "execute_result"
    }
   ],
   "source": [
    "data.duplicated().sum()"
   ]
  },
  {
   "cell_type": "code",
   "execution_count": 9,
   "id": "69cf3ad7",
   "metadata": {},
   "outputs": [],
   "source": [
    "data.drop_duplicates(keep='first', inplace = True)"
   ]
  },
  {
   "cell_type": "code",
   "execution_count": 10,
   "id": "067b5a50-aaf5-4736-95ee-7e69004cc7a8",
   "metadata": {},
   "outputs": [
    {
     "data": {
      "text/plain": [
       "0"
      ]
     },
     "execution_count": 10,
     "metadata": {},
     "output_type": "execute_result"
    }
   ],
   "source": [
    "data.duplicated().sum()"
   ]
  },
  {
   "cell_type": "markdown",
   "id": "fb162d30",
   "metadata": {},
   "source": [
    "### Print some of the happy text"
   ]
  },
  {
   "cell_type": "code",
   "execution_count": 12,
   "id": "e3fe1091",
   "metadata": {},
   "outputs": [
    {
     "name": "stdout",
     "output_type": "stream",
     "text": [
      "i have been with petronas for years i feel that petronas has performed well and made a huge profit\n",
      "\n",
      "i do feel that running is a divine experience and that i can expect to have some type of spiritual encounter\n",
      "\n",
      "i have immense sympathy with the general point but as a possible proto writer trying to find time to write in the corners of life and with no sign of an agent let alone a publishing contract this feels a little precious\n",
      "\n",
      "i do not feel reassured anxiety is on each side\n",
      "\n",
      "i have the feeling she was amused and delighted\n",
      "\n",
      "i was able to help chai lifeline with your support and encouragement is a great feeling and i am so glad you were able to help me\n",
      "\n",
      "i feel more superior dead chicken or grieving child\n",
      "\n",
      "i get giddy over feeling elegant in a perfectly fitted pencil skirt\n",
      "\n",
      "i can t imagine a real life scenario where i would be emotionally connected enough with someone to feel totally accepted and safe where it it morally acceptable for me to have close and prolonged physical contact and where sex won t be expected subsequently\n",
      "\n",
      "i am not sure what would make me feel content if anything\n",
      "\n"
     ]
    }
   ],
   "source": []
  },
  {
   "cell_type": "code",
   "execution_count": 11,
   "id": "8e0392b2-e716-4bf0-9900-d8c74f61babc",
   "metadata": {},
   "outputs": [
    {
     "name": "stdout",
     "output_type": "stream",
     "text": [
      "8     i have been with petronas for years i feel tha...\n",
      "11    i do feel that running is a divine experience ...\n",
      "14    i have immense sympathy with the general point...\n",
      "15      i do not feel reassured anxiety is on each side\n",
      "22      i have the feeling she was amused and delighted\n",
      "23    i was able to help chai lifeline with your sup...\n",
      "29    i feel more superior dead chicken or grieving ...\n",
      "30    i get giddy over feeling elegant in a perfectl...\n",
      "34    i can t imagine a real life scenario where i w...\n",
      "35    i am not sure what would make me feel content ...\n",
      "Name: Text, dtype: object\n"
     ]
    }
   ],
   "source": [
    "print(data[data['Emotion'] == 'happy']['Text'].head(10))"
   ]
  },
  {
   "cell_type": "markdown",
   "id": "c78c18ea",
   "metadata": {},
   "source": [
    "### Print some of the sadness texts"
   ]
  },
  {
   "cell_type": "code",
   "execution_count": 13,
   "id": "4fb433d5",
   "metadata": {},
   "outputs": [
    {
     "name": "stdout",
     "output_type": "stream",
     "text": [
      "i didnt feel humiliated\n",
      "\n",
      "i can go from feeling so hopeless to so damned hopeful just from being around someone who cares and is awake\n",
      "\n",
      "ive been feeling a little burdened lately wasnt sure why that was\n",
      "\n",
      "i feel like i have to make the suffering i m seeing mean something\n",
      "\n",
      "i feel low energy i m just thirsty\n",
      "\n",
      "i didnt really feel that embarrassed\n",
      "\n",
      "i feel pretty pathetic most of the time\n",
      "\n",
      "i started feeling sentimental about dolls i had as a child and so began a collection of vintage barbie dolls from the sixties\n",
      "\n",
      "i still love my so and wish the best for him i can no longer tolerate the effect that bm has on our lives and the fact that is has turned my so into a bitter angry person who is not always particularly kind to the people around him when he is feeling stressed\n",
      "\n",
      "i feel so inhibited in someone elses kitchen like im painting on someone elses picture\n",
      "\n"
     ]
    }
   ],
   "source": []
  },
  {
   "cell_type": "code",
   "execution_count": 12,
   "id": "7fc33b7e-2564-4ade-90cd-401a6eeb4a0c",
   "metadata": {},
   "outputs": [
    {
     "data": {
      "text/plain": [
       "0                               i didnt feel humiliated\n",
       "1     i can go from feeling so hopeless to so damned...\n",
       "5     ive been feeling a little burdened lately wasn...\n",
       "10    i feel like i have to make the suffering i m s...\n",
       "13                   i feel low energy i m just thirsty\n",
       "16                 i didnt really feel that embarrassed\n",
       "17              i feel pretty pathetic most of the time\n",
       "18    i started feeling sentimental about dolls i ha...\n",
       "25    i still love my so and wish the best for him i...\n",
       "26    i feel so inhibited in someone elses kitchen l...\n",
       "Name: Text, dtype: object"
      ]
     },
     "execution_count": 12,
     "metadata": {},
     "output_type": "execute_result"
    }
   ],
   "source": [
    "data[data['Emotion'] == 'sadness']['Text'].head(10)"
   ]
  },
  {
   "cell_type": "markdown",
   "id": "840f8461",
   "metadata": {},
   "source": [
    "### Print some of the surpise texts"
   ]
  },
  {
   "cell_type": "code",
   "execution_count": 17,
   "id": "184fab4d",
   "metadata": {},
   "outputs": [
    {
     "name": "stdout",
     "output_type": "stream",
     "text": [
      "ive been taking or milligrams or times recommended amount and ive fallen asleep a lot faster but i also feel like so funny\n",
      "\n",
      "i have seen heard and read over the past couple of days i am left feeling impressed by more than a few companies\n",
      "\n",
      "i keep feeling pleasantly surprised at his supportiveness and also his ease in new situations\n",
      "\n",
      "i am now nearly finished the week detox and i feel amazing\n",
      "\n",
      "i too feel as if i am a stranger in a strange land and i am raising my son in a place that is not his father s ancestral home\n",
      "\n",
      "i started feeling funny and then friday i woke up sick as a dog\n",
      "\n",
      "im certainly not going to sit and tell you whats going on in my personal life but i feel that if you were ever curious about whats going in my life all youd have to do is watch the show\n",
      "\n",
      "im sorry that there wasnt more humor in this post but im not feeling all that funny\n",
      "\n",
      "i want to hold this feeling of shocked awe and wonder forever\n",
      "\n",
      "i will enclose her verses on her could not weigh much more thinking and feeling curious to hear the odd couple\n",
      "\n"
     ]
    }
   ],
   "source": []
  },
  {
   "cell_type": "code",
   "execution_count": 13,
   "id": "9a1938d5-8fb3-4e14-a9ab-769e15e849c1",
   "metadata": {},
   "outputs": [
    {
     "data": {
      "text/plain": [
       "6      ive been taking or milligrams or times recomme...\n",
       "32     i have seen heard and read over the past coupl...\n",
       "57     i keep feeling pleasantly surprised at his sup...\n",
       "64     i am now nearly finished the week detox and i ...\n",
       "129    i too feel as if i am a stranger in a strange ...\n",
       "145    i started feeling funny and then friday i woke...\n",
       "156    im certainly not going to sit and tell you wha...\n",
       "157    im sorry that there wasnt more humor in this p...\n",
       "168    i want to hold this feeling of shocked awe and...\n",
       "181    i will enclose her verses on her could not wei...\n",
       "Name: Text, dtype: object"
      ]
     },
     "execution_count": 13,
     "metadata": {},
     "output_type": "execute_result"
    }
   ],
   "source": [
    "data[data['Emotion'] == 'surprise']['Text'].head(10)"
   ]
  },
  {
   "cell_type": "markdown",
   "id": "293ddc77",
   "metadata": {},
   "source": [
    "### Plot a countplot of Emotions"
   ]
  },
  {
   "cell_type": "code",
   "execution_count": 39,
   "id": "c6c5c59c",
   "metadata": {},
   "outputs": [
    {
     "data": {
      "image/png": "[encoded data removed]",
      "text/plain": [
       "<Figure size 432x288 with 1 Axes>"
      ]
     },
     "metadata": {
      "needs_background": "light"
     },
     "output_type": "display_data"
    }
   ],
   "source": []
  },
  {
   "cell_type": "code",
   "execution_count": 14,
   "id": "41bb53f5-7f2d-4cd3-afe1-ba452e7ab9ef",
   "metadata": {},
   "outputs": [
    {
     "data": {
      "text/plain": [
       "<Axes: xlabel='count', ylabel='Emotion'>"
      ]
     },
     "execution_count": 14,
     "metadata": {},
     "output_type": "execute_result"
    },
    {
     "data": {
      "image/png": "[encoded data removed]",
      "text/plain": [
       "<Figure size 640x480 with 1 Axes>"
      ]
     },
     "metadata": {},
     "output_type": "display_data"
    }
   ],
   "source": [
    "sns.countplot(data, y='Emotion')"
   ]
  },
  {
   "cell_type": "markdown",
   "id": "19158d44",
   "metadata": {},
   "source": [
    "### Convert Emotions column to numerical values using Label encoder"
   ]
  },
  {
   "cell_type": "code",
   "execution_count": 15,
   "id": "e6d6dd98",
   "metadata": {},
   "outputs": [],
   "source": [
    "from sklearn.preprocessing import LabelEncoder"
   ]
  },
  {
   "cell_type": "code",
   "execution_count": 16,
   "id": "55ce396a",
   "metadata": {},
   "outputs": [],
   "source": [
    "label_encoder = LabelEncoder()"
   ]
  },
  {
   "cell_type": "code",
   "execution_count": 17,
   "id": "1b75a939",
   "metadata": {},
   "outputs": [],
   "source": [
    "data['Emotion'] = label_encoder.fit_transform(data['Emotion'])"
   ]
  },
  {
   "cell_type": "code",
   "execution_count": 18,
   "id": "d83147c1",
   "metadata": {},
   "outputs": [
    {
     "data": {
      "text/html": [
       "<div>\n",
       "<style scoped>\n",
       "    .dataframe tbody tr th:only-of-type {\n",
       "        vertical-align: middle;\n",
       "    }\n",
       "\n",
       "    .dataframe tbody tr th {\n",
       "        vertical-align: top;\n",
       "    }\n",
       "\n",
       "    .dataframe thead th {\n",
       "        text-align: right;\n",
       "    }\n",
       "</style>\n",
       "<table border=\"1\" class=\"dataframe\">\n",
       "  <thead>\n",
       "    <tr style=\"text-align: right;\">\n",
       "      <th></th>\n",
       "      <th>Text</th>\n",
       "      <th>Emotion</th>\n",
       "    </tr>\n",
       "  </thead>\n",
       "  <tbody>\n",
       "    <tr>\n",
       "      <th>0</th>\n",
       "      <td>i didnt feel humiliated</td>\n",
       "      <td>4</td>\n",
       "    </tr>\n",
       "    <tr>\n",
       "      <th>1</th>\n",
       "      <td>i can go from feeling so hopeless to so damned...</td>\n",
       "      <td>4</td>\n",
       "    </tr>\n",
       "    <tr>\n",
       "      <th>2</th>\n",
       "      <td>im grabbing a minute to post i feel greedy wrong</td>\n",
       "      <td>0</td>\n",
       "    </tr>\n",
       "    <tr>\n",
       "      <th>3</th>\n",
       "      <td>i am ever feeling nostalgic about the fireplac...</td>\n",
       "      <td>3</td>\n",
       "    </tr>\n",
       "    <tr>\n",
       "      <th>4</th>\n",
       "      <td>i am feeling grouchy</td>\n",
       "      <td>0</td>\n",
       "    </tr>\n",
       "  </tbody>\n",
       "</table>\n",
       "</div>"
      ],
      "text/plain": [
       "                                                Text  Emotion\n",
       "0                            i didnt feel humiliated        4\n",
       "1  i can go from feeling so hopeless to so damned...        4\n",
       "2   im grabbing a minute to post i feel greedy wrong        0\n",
       "3  i am ever feeling nostalgic about the fireplac...        3\n",
       "4                               i am feeling grouchy        0"
      ]
     },
     "execution_count": 18,
     "metadata": {},
     "output_type": "execute_result"
    }
   ],
   "source": [
    "data.head()"
   ]
  },
  {
   "cell_type": "code",
   "execution_count": 22,
   "id": "a58d196e",
   "metadata": {},
   "outputs": [
    {
     "data": {
      "text/html": [
       "<div>\n",
       "<style scoped>\n",
       "    .dataframe tbody tr th:only-of-type {\n",
       "        vertical-align: middle;\n",
       "    }\n",
       "\n",
       "    .dataframe tbody tr th {\n",
       "        vertical-align: top;\n",
       "    }\n",
       "\n",
       "    .dataframe thead th {\n",
       "        text-align: right;\n",
       "    }\n",
       "</style>\n",
       "<table border=\"1\" class=\"dataframe\">\n",
       "  <thead>\n",
       "    <tr style=\"text-align: right;\">\n",
       "      <th></th>\n",
       "      <th>Text</th>\n",
       "      <th>Emotion</th>\n",
       "    </tr>\n",
       "  </thead>\n",
       "  <tbody>\n",
       "    <tr>\n",
       "      <th>0</th>\n",
       "      <td>i didnt feel humiliated</td>\n",
       "      <td>4</td>\n",
       "    </tr>\n",
       "    <tr>\n",
       "      <th>1</th>\n",
       "      <td>i can go from feeling so hopeless to so damned...</td>\n",
       "      <td>4</td>\n",
       "    </tr>\n",
       "    <tr>\n",
       "      <th>2</th>\n",
       "      <td>im grabbing a minute to post i feel greedy wrong</td>\n",
       "      <td>0</td>\n",
       "    </tr>\n",
       "    <tr>\n",
       "      <th>3</th>\n",
       "      <td>i am ever feeling nostalgic about the fireplac...</td>\n",
       "      <td>3</td>\n",
       "    </tr>\n",
       "    <tr>\n",
       "      <th>4</th>\n",
       "      <td>i am feeling grouchy</td>\n",
       "      <td>0</td>\n",
       "    </tr>\n",
       "  </tbody>\n",
       "</table>\n",
       "</div>"
      ],
      "text/plain": [
       "                                                Text  Emotion\n",
       "0                            i didnt feel humiliated        4\n",
       "1  i can go from feeling so hopeless to so damned...        4\n",
       "2   im grabbing a minute to post i feel greedy wrong        0\n",
       "3  i am ever feeling nostalgic about the fireplac...        3\n",
       "4                               i am feeling grouchy        0"
      ]
     },
     "execution_count": 22,
     "metadata": {},
     "output_type": "execute_result"
    }
   ],
   "source": []
  },
  {
   "cell_type": "markdown",
   "id": "d66e0e98",
   "metadata": {},
   "source": [
    "### Store the classes in a list\n",
    "* use le.classes_ to fetch the classes"
   ]
  },
  {
   "cell_type": "code",
   "execution_count": 27,
   "id": "2ffd293d",
   "metadata": {},
   "outputs": [
    {
     "data": {
      "text/plain": [
       "['anger', 'fear', 'happy', 'love', 'sadness', 'surprise']"
      ]
     },
     "execution_count": 27,
     "metadata": {},
     "output_type": "execute_result"
    }
   ],
   "source": []
  },
  {
   "cell_type": "code",
   "execution_count": 19,
   "id": "d55c7385-b4aa-4ff3-b23f-34cd497d9ce2",
   "metadata": {},
   "outputs": [],
   "source": [
    "le_class = list(label_encoder.classes_)"
   ]
  },
  {
   "cell_type": "code",
   "execution_count": 20,
   "id": "523c9788-84b5-407c-9cc4-8b0da6c2a313",
   "metadata": {},
   "outputs": [
    {
     "data": {
      "text/plain": [
       "['anger', 'fear', 'happy', 'love', 'sadness', 'surprise']"
      ]
     },
     "execution_count": 20,
     "metadata": {},
     "output_type": "execute_result"
    }
   ],
   "source": [
    "le_class"
   ]
  },
  {
   "cell_type": "markdown",
   "id": "5c709449",
   "metadata": {},
   "source": [
    "### Import WordNetLemmatizer, stopwords"
   ]
  },
  {
   "cell_type": "code",
   "execution_count": 21,
   "id": "f61cac78",
   "metadata": {},
   "outputs": [],
   "source": [
    "from nltk.stem import WordNetLemmatizer\n",
    "from nltk.corpus import stopwords"
   ]
  },
  {
   "cell_type": "markdown",
   "id": "9c9ca038",
   "metadata": {},
   "source": [
    "### Create a function to preprocess the text (lemmatize,lower,remove stopwords, remove special characters)"
   ]
  },
  {
   "cell_type": "code",
   "execution_count": 22,
   "id": "efa8aaf2",
   "metadata": {},
   "outputs": [],
   "source": [
    "def preprocess(sentence):\n",
    "    text = re.sub(r\"[^a-zA-Z0-9]\", ' ',sentence).split()\n",
    "    words = [x.lower() for x in text if x not in stopwords.words('english')]\n",
    "    lemma = WordNetLemmatizer()\n",
    "    word = [lemma.lemmatize(word,'v') for word in words]\n",
    "    word = ' '.join(word)\n",
    "    return word\n"
   ]
  },
  {
   "cell_type": "markdown",
   "id": "a86170ac",
   "metadata": {},
   "source": [
    "### Apply the function to Text in our dataframe"
   ]
  },
  {
   "cell_type": "code",
   "execution_count": 32,
   "id": "fdc359a0",
   "metadata": {},
   "outputs": [
    {
     "data": {
      "text/plain": [
       "0                                     didnt feel humiliate\n",
       "1        go feel hopeless damn hopeful around someone c...\n",
       "2                    im grab minute post feel greedy wrong\n",
       "3        ever feel nostalgic fireplace know still property\n",
       "4                                             feel grouchy\n",
       "                               ...                        \n",
       "21454                             melissa star friend dism\n",
       "21455    successive state elections see govern party pu...\n",
       "21456                              vincent irritate dismay\n",
       "21457              kendall hume turn back face dismay coup\n",
       "21458                                     i dismay surpris\n",
       "Name: Text, Length: 21456, dtype: object"
      ]
     },
     "execution_count": 32,
     "metadata": {},
     "output_type": "execute_result"
    }
   ],
   "source": []
  },
  {
   "cell_type": "code",
   "execution_count": 23,
   "id": "854b4a74-6b9d-4e25-b9d5-95b531c4b210",
   "metadata": {},
   "outputs": [],
   "source": [
    "data[\"Text\"] = data[\"Text\"].apply(preprocess)"
   ]
  },
  {
   "cell_type": "markdown",
   "id": "19f7ae3c",
   "metadata": {},
   "source": [
    "### View some of the texts after preprocessing"
   ]
  },
  {
   "cell_type": "code",
   "execution_count": 35,
   "id": "017419a7",
   "metadata": {},
   "outputs": [
    {
     "name": "stdout",
     "output_type": "stream",
     "text": [
      "i didnt feel humiliated\n",
      "\n",
      "i can go from feeling so hopeless to so damned hopeful just from being around someone who cares and is awake\n",
      "\n",
      "im grabbing a minute to post i feel greedy wrong\n",
      "\n",
      "i am ever feeling nostalgic about the fireplace i will know that it is still on the property\n",
      "\n",
      "i am feeling grouchy\n",
      "\n",
      "ive been feeling a little burdened lately wasnt sure why that was\n",
      "\n",
      "ive been taking or milligrams or times recommended amount and ive fallen asleep a lot faster but i also feel like so funny\n",
      "\n",
      "i feel as confused about life as a teenager or as jaded as a year old man\n",
      "\n",
      "i have been with petronas for years i feel that petronas has performed well and made a huge profit\n",
      "\n",
      "i feel romantic too\n",
      "\n"
     ]
    }
   ],
   "source": []
  },
  {
   "cell_type": "code",
   "execution_count": 26,
   "id": "a6180aec-04b9-4d7a-b538-df97555b41e5",
   "metadata": {
    "scrolled": true
   },
   "outputs": [
    {
     "name": "stdout",
     "output_type": "stream",
     "text": [
      "didnt feel humiliate\n",
      "go feel hopeless damn hopeful around someone care awake\n",
      "im grab minute post feel greedy wrong\n",
      "ever feel nostalgic fireplace know still property\n",
      "feel grouchy\n",
      "ive feel little burden lately wasnt sure\n",
      "ive take milligrams time recommend amount ive fall asleep lot faster also feel like funny\n",
      "feel confuse life teenager jade year old man\n",
      "petronas years feel petronas perform well make huge profit\n",
      "feel romantic\n"
     ]
    }
   ],
   "source": [
    "for i in range(10):\n",
    "    print(data[\"Text\"][i])"
   ]
  },
  {
   "cell_type": "markdown",
   "id": "77eda1ba",
   "metadata": {},
   "source": [
    "### Convert text to vectors"
   ]
  },
  {
   "cell_type": "code",
   "execution_count": null,
   "id": "940d73af-5b68-4f64-866e-21719f839ad8",
   "metadata": {},
   "outputs": [],
   "source": []
  },
  {
   "cell_type": "code",
   "execution_count": 27,
   "id": "3e892e3e-f0f0-4c5e-bc0a-d25fdd909ba0",
   "metadata": {},
   "outputs": [],
   "source": [
    "X = data[\"Text\"]\n",
    "y = data[\"Emotion\"]"
   ]
  },
  {
   "cell_type": "code",
   "execution_count": 28,
   "id": "8b686986",
   "metadata": {},
   "outputs": [],
   "source": [
    "from sklearn.feature_extraction.text import TfidfVectorizer"
   ]
  },
  {
   "cell_type": "code",
   "execution_count": 29,
   "id": "b7a277ab",
   "metadata": {},
   "outputs": [],
   "source": [
    "vectorizer = TfidfVectorizer(ngram_range=(2,2))"
   ]
  },
  {
   "cell_type": "code",
   "execution_count": 30,
   "id": "f479ff5e",
   "metadata": {},
   "outputs": [],
   "source": [
    "X = vectorizer.fit_transform(X)"
   ]
  },
  {
   "cell_type": "code",
   "execution_count": 31,
   "id": "0fb3f5b6-1a73-4da2-906f-4cb2836c6422",
   "metadata": {},
   "outputs": [
    {
     "data": {
      "text/plain": [
       "(21456, 118609)"
      ]
     },
     "execution_count": 31,
     "metadata": {},
     "output_type": "execute_result"
    }
   ],
   "source": [
    "X.shape"
   ]
  },
  {
   "cell_type": "code",
   "execution_count": 42,
   "id": "3a652f4f",
   "metadata": {},
   "outputs": [
    {
     "data": {
      "text/plain": [
       "(21456, 141469)"
      ]
     },
     "execution_count": 42,
     "metadata": {},
     "output_type": "execute_result"
    }
   ],
   "source": []
  },
  {
   "cell_type": "markdown",
   "id": "1e1f800b",
   "metadata": {},
   "source": [
    "### Split the dataset into training and Testing set"
   ]
  },
  {
   "cell_type": "code",
   "execution_count": 32,
   "id": "5da4974e",
   "metadata": {},
   "outputs": [],
   "source": [
    "from sklearn.model_selection import train_test_split"
   ]
  },
  {
   "cell_type": "code",
   "execution_count": 33,
   "id": "03a0eebf",
   "metadata": {},
   "outputs": [],
   "source": [
    "X_train, X_test, y_train, y_test = train_test_split(X,y, test_size=0.2)"
   ]
  },
  {
   "cell_type": "markdown",
   "id": "2e790efc",
   "metadata": {},
   "source": [
    "### Create a Random forest classifier model"
   ]
  },
  {
   "cell_type": "code",
   "execution_count": null,
   "id": "2601ff2b",
   "metadata": {},
   "outputs": [],
   "source": [
    "from sklearn.ensemble import RandomForestClassifier"
   ]
  },
  {
   "cell_type": "code",
   "execution_count": 42,
   "id": "53a8f0b0",
   "metadata": {},
   "outputs": [],
   "source": [
    "model = RandomForestClassifier(n_estimators=50)"
   ]
  },
  {
   "cell_type": "code",
   "execution_count": null,
   "id": "66e214b0-4e22-4483-a1ea-d51508e251d7",
   "metadata": {},
   "outputs": [],
   "source": []
  },
  {
   "cell_type": "markdown",
   "id": "9512f737",
   "metadata": {},
   "source": [
    "### Train the model"
   ]
  },
  {
   "cell_type": "code",
   "execution_count": 43,
   "id": "d090100f",
   "metadata": {},
   "outputs": [
    {
     "data": {
      "text/html": [
       "<style>#sk-container-id-1 {color: black;background-color: white;}#sk-container-id-1 pre{padding: 0;}#sk-container-id-1 div.sk-toggleable {background-color: white;}#sk-container-id-1 label.sk-toggleable__label {cursor: pointer;display: block;width: 100%;margin-bottom: 0;padding: 0.3em;box-sizing: border-box;text-align: center;}#sk-container-id-1 label.sk-toggleable__label-arrow:before {content: \"▸\";float: left;margin-right: 0.25em;color: #696969;}#sk-container-id-1 label.sk-toggleable__label-arrow:hover:before {color: black;}#sk-container-id-1 div.sk-estimator:hover label.sk-toggleable__label-arrow:before {color: black;}#sk-container-id-1 div.sk-toggleable__content {max-height: 0;max-width: 0;overflow: hidden;text-align: left;background-color: #f0f8ff;}#sk-container-id-1 div.sk-toggleable__content pre {margin: 0.2em;color: black;border-radius: 0.25em;background-color: #f0f8ff;}#sk-container-id-1 input.sk-toggleable__control:checked~div.sk-toggleable__content {max-height: 200px;max-width: 100%;overflow: auto;}#sk-container-id-1 input.sk-toggleable__control:checked~label.sk-toggleable__label-arrow:before {content: \"▾\";}#sk-container-id-1 div.sk-estimator input.sk-toggleable__control:checked~label.sk-toggleable__label {background-color: #d4ebff;}#sk-container-id-1 div.sk-label input.sk-toggleable__control:checked~label.sk-toggleable__label {background-color: #d4ebff;}#sk-container-id-1 input.sk-hidden--visually {border: 0;clip: rect(1px 1px 1px 1px);clip: rect(1px, 1px, 1px, 1px);height: 1px;margin: -1px;overflow: hidden;padding: 0;position: absolute;width: 1px;}#sk-container-id-1 div.sk-estimator {font-family: monospace;background-color: #f0f8ff;border: 1px dotted black;border-radius: 0.25em;box-sizing: border-box;margin-bottom: 0.5em;}#sk-container-id-1 div.sk-estimator:hover {background-color: #d4ebff;}#sk-container-id-1 div.sk-parallel-item::after {content: \"\";width: 100%;border-bottom: 1px solid gray;flex-grow: 1;}#sk-container-id-1 div.sk-label:hover label.sk-toggleable__label {background-color: #d4ebff;}#sk-container-id-1 div.sk-serial::before {content: \"\";position: absolute;border-left: 1px solid gray;box-sizing: border-box;top: 0;bottom: 0;left: 50%;z-index: 0;}#sk-container-id-1 div.sk-serial {display: flex;flex-direction: column;align-items: center;background-color: white;padding-right: 0.2em;padding-left: 0.2em;position: relative;}#sk-container-id-1 div.sk-item {position: relative;z-index: 1;}#sk-container-id-1 div.sk-parallel {display: flex;align-items: stretch;justify-content: center;background-color: white;position: relative;}#sk-container-id-1 div.sk-item::before, #sk-container-id-1 div.sk-parallel-item::before {content: \"\";position: absolute;border-left: 1px solid gray;box-sizing: border-box;top: 0;bottom: 0;left: 50%;z-index: -1;}#sk-container-id-1 div.sk-parallel-item {display: flex;flex-direction: column;z-index: 1;position: relative;background-color: white;}#sk-container-id-1 div.sk-parallel-item:first-child::after {align-self: flex-end;width: 50%;}#sk-container-id-1 div.sk-parallel-item:last-child::after {align-self: flex-start;width: 50%;}#sk-container-id-1 div.sk-parallel-item:only-child::after {width: 0;}#sk-container-id-1 div.sk-dashed-wrapped {border: 1px dashed gray;margin: 0 0.4em 0.5em 0.4em;box-sizing: border-box;padding-bottom: 0.4em;background-color: white;}#sk-container-id-1 div.sk-label label {font-family: monospace;font-weight: bold;display: inline-block;line-height: 1.2em;}#sk-container-id-1 div.sk-label-container {text-align: center;}#sk-container-id-1 div.sk-container {/* jupyter's `normalize.less` sets `[hidden] { display: none; }` but bootstrap.min.css set `[hidden] { display: none !important; }` so we also need the `!important` here to be able to override the default hidden behavior on the sphinx rendered scikit-learn.org. See: https://github.com/scikit-learn/scikit-learn/issues/21755 */display: inline-block !important;position: relative;}#sk-container-id-1 div.sk-text-repr-fallback {display: none;}</style><div id=\"sk-container-id-1\" class=\"sk-top-container\"><div class=\"sk-text-repr-fallback\"><pre>RandomForestClassifier(n_estimators=50)</pre><b>In a Jupyter environment, please rerun this cell to show the HTML representation or trust the notebook. <br />On GitHub, the HTML representation is unable to render, please try loading this page with nbviewer.org.</b></div><div class=\"sk-container\" hidden><div class=\"sk-item\"><div class=\"sk-estimator sk-toggleable\"><input class=\"sk-toggleable__control sk-hidden--visually\" id=\"sk-estimator-id-1\" type=\"checkbox\" checked><label for=\"sk-estimator-id-1\" class=\"sk-toggleable__label sk-toggleable__label-arrow\">RandomForestClassifier</label><div class=\"sk-toggleable__content\"><pre>RandomForestClassifier(n_estimators=50)</pre></div></div></div></div></div>"
      ],
      "text/plain": [
       "RandomForestClassifier(n_estimators=50)"
      ]
     },
     "execution_count": 43,
     "metadata": {},
     "output_type": "execute_result"
    }
   ],
   "source": [
    "model.fit(X_train,y_train)"
   ]
  },
  {
   "cell_type": "markdown",
   "id": "bff836e3",
   "metadata": {},
   "source": [
    "### Check the score of the model"
   ]
  },
  {
   "cell_type": "code",
   "execution_count": 53,
   "id": "74b8eada",
   "metadata": {},
   "outputs": [
    {
     "data": {
      "text/plain": [
       "0.9983842903305991"
      ]
     },
     "execution_count": 53,
     "metadata": {},
     "output_type": "execute_result"
    }
   ],
   "source": []
  },
  {
   "cell_type": "code",
   "execution_count": 44,
   "id": "829218c1-96c6-4159-8e72-32d42002a893",
   "metadata": {},
   "outputs": [
    {
     "data": {
      "text/plain": [
       "0.9973199720344907"
      ]
     },
     "execution_count": 44,
     "metadata": {},
     "output_type": "execute_result"
    }
   ],
   "source": [
    "model.score(X_train,y_train)"
   ]
  },
  {
   "cell_type": "markdown",
   "id": "d15ebf84",
   "metadata": {},
   "source": [
    "### Make predictions with X_test"
   ]
  },
  {
   "cell_type": "code",
   "execution_count": 45,
   "id": "d42d09c2",
   "metadata": {},
   "outputs": [],
   "source": [
    "prediction = model.predict(X_test)"
   ]
  },
  {
   "cell_type": "markdown",
   "id": "247d311d",
   "metadata": {},
   "source": [
    "### Check the accuracy of our prediction"
   ]
  },
  {
   "cell_type": "code",
   "execution_count": 50,
   "id": "a00adad5",
   "metadata": {},
   "outputs": [],
   "source": [
    "from sklearn.metrics import accuracy_score, confusion_matrix, classification_report"
   ]
  },
  {
   "cell_type": "code",
   "execution_count": 57,
   "id": "4bf92784",
   "metadata": {},
   "outputs": [
    {
     "data": {
      "text/plain": [
       "0.5844519015659956"
      ]
     },
     "execution_count": 57,
     "metadata": {},
     "output_type": "execute_result"
    }
   ],
   "source": []
  },
  {
   "cell_type": "code",
   "execution_count": 52,
   "id": "f8950304-d434-439c-9fe3-e19d87ab6590",
   "metadata": {},
   "outputs": [
    {
     "data": {
      "text/plain": [
       "0.6595992544268406"
      ]
     },
     "execution_count": 52,
     "metadata": {},
     "output_type": "execute_result"
    }
   ],
   "source": [
    "accuracy_score(y_test,prediction)"
   ]
  },
  {
   "cell_type": "markdown",
   "id": "833e9694",
   "metadata": {},
   "source": [
    "### Create confusion matrix"
   ]
  },
  {
   "cell_type": "code",
   "execution_count": 62,
   "id": "aa2a0409",
   "metadata": {},
   "outputs": [
    {
     "data": {
      "image/png": "[encoded data removed]",
      "text/plain": [
       "<Figure size 432x288 with 2 Axes>"
      ]
     },
     "metadata": {
      "needs_background": "light"
     },
     "output_type": "display_data"
    }
   ],
   "source": []
  },
  {
   "cell_type": "code",
   "execution_count": 56,
   "id": "31c748e1-7a61-4036-9e5d-487bd54a064b",
   "metadata": {},
   "outputs": [
    {
     "data": {
      "text/plain": [
       "<Axes: >"
      ]
     },
     "execution_count": 56,
     "metadata": {},
     "output_type": "execute_result"
    },
    {
     "data": {
      "image/png": "[encoded data removed]",
      "text/plain": [
       "<Figure size 640x480 with 2 Axes>"
      ]
     },
     "metadata": {},
     "output_type": "display_data"
    }
   ],
   "source": [
    "sns.heatmap(confusion_matrix(y_test,prediction),annot = True, fmt='d')"
   ]
  },
  {
   "cell_type": "markdown",
   "id": "c7b04d19",
   "metadata": {},
   "source": [
    "### Create classification report"
   ]
  },
  {
   "cell_type": "code",
   "execution_count": 60,
   "id": "4908bf35",
   "metadata": {},
   "outputs": [
    {
     "name": "stdout",
     "output_type": "stream",
     "text": [
      "              precision    recall  f1-score   support\n",
      "\n",
      "           0       0.87      0.37      0.52       788\n",
      "           1       0.83      0.44      0.58       682\n",
      "           2       0.47      0.91      0.62      1711\n",
      "           3       0.81      0.23      0.36       421\n",
      "           4       0.69      0.53      0.60      1550\n",
      "           5       0.84      0.31      0.45       212\n",
      "\n",
      "    accuracy                           0.58      5364\n",
      "   macro avg       0.75      0.47      0.52      5364\n",
      "weighted avg       0.68      0.58      0.57      5364\n",
      "\n"
     ]
    }
   ],
   "source": []
  },
  {
   "cell_type": "code",
   "execution_count": 57,
   "id": "2b698c6b-e6b5-482a-a13c-1b8bec8b34a8",
   "metadata": {},
   "outputs": [
    {
     "name": "stdout",
     "output_type": "stream",
     "text": [
      "              precision    recall  f1-score   support\n",
      "\n",
      "           0       0.43      0.70      0.53       598\n",
      "           1       0.87      0.55      0.68       540\n",
      "           2       0.64      0.78      0.70      1400\n",
      "           3       0.79      0.38      0.51       313\n",
      "           4       0.81      0.66      0.72      1256\n",
      "           5       0.84      0.41      0.55       185\n",
      "\n",
      "    accuracy                           0.66      4292\n",
      "   macro avg       0.73      0.58      0.62      4292\n",
      "weighted avg       0.71      0.66      0.66      4292\n",
      "\n"
     ]
    }
   ],
   "source": [
    "print(classification_report(y_test,prediction))"
   ]
  },
  {
   "cell_type": "markdown",
   "id": "f5545c8b",
   "metadata": {},
   "source": [
    "***"
   ]
  },
  {
   "cell_type": "markdown",
   "id": "148ad057",
   "metadata": {},
   "source": [
    "# <center><a href = \"http://edure.in/\"><span style = \"color:CornflowerBlue; font-family:Courier New;font-size:40px\">EDURE LEARNING</span></a></center>"
   ]
  }
 ],
 "metadata": {
  "kernelspec": {
   "display_name": "Python 3 (ipykernel)",
   "language": "python",
   "name": "python3"
  },
  "language_info": {
   "codemirror_mode": {
    "name": "ipython",
    "version": 3
   },
   "file_extension": ".py",
   "mimetype": "text/x-python",
   "name": "python",
   "nbconvert_exporter": "python",
   "pygments_lexer": "ipython3",
   "version": "3.11.7"
  }
 },
 "nbformat": 4,
 "nbformat_minor": 5
}
